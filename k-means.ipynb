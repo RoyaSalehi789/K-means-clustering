{
 "cells": [
  {
   "cell_type": "code",
   "execution_count": 169,
   "id": "ec695f56-860b-40fd-a8fb-aa0ae94c02cf",
   "metadata": {},
   "outputs": [],
   "source": [
    "import matplotlib.pyplot as plt\n",
    "import numpy as np\n",
    "from sklearn.cluster import KMeans\n",
    "import random"
   ]
  },
  {
   "cell_type": "code",
   "execution_count": 170,
   "id": "c3b5ddf1-4b36-4bbf-b4a4-1fd5828b7f6f",
   "metadata": {},
   "outputs": [],
   "source": [
    "one = plt.imread(\"USPS_1_5/usps_1.jpg\")\n",
    "two = plt.imread(\"USPS_1_5/usps_2.jpg\")\n",
    "three = plt.imread(\"USPS_1_5/usps_3.jpg\")\n",
    "four = plt.imread(\"USPS_1_5/usps_4.jpg\")\n",
    "five = plt.imread(\"USPS_1_5/usps_5.jpg\")"
   ]
  },
  {
   "cell_type": "code",
   "execution_count": 171,
   "id": "0a59dbd5-8182-41c1-b31b-5d36abac2622",
   "metadata": {},
   "outputs": [],
   "source": [
    "all_datas = []"
   ]
  },
  {
   "cell_type": "code",
   "execution_count": 172,
   "id": "145422e8-eb3c-458f-ae89-24011129f639",
   "metadata": {},
   "outputs": [],
   "source": [
    "def split_photos(img):\n",
    "    for i in range(0, 544, 16):\n",
    "        for j in range(0, 528, 16):\n",
    "            splitted_img = img[i:(i+16) , j:(j+16)]\n",
    "            all_datas.append(splitted_img.flatten())"
   ]
  },
  {
   "cell_type": "code",
   "execution_count": 173,
   "id": "6e499437-02fa-4716-890d-02cf7317abfe",
   "metadata": {},
   "outputs": [],
   "source": [
    "split_photos(one)\n",
    "split_photos(two)\n",
    "split_photos(three)\n",
    "split_photos(four)\n",
    "split_photos(five)"
   ]
  },
  {
   "cell_type": "code",
   "execution_count": 174,
   "id": "2e9f742d-f9ab-41d8-a67b-2c3ea763337e",
   "metadata": {},
   "outputs": [
    {
     "data": {
      "text/plain": [
       "<matplotlib.image.AxesImage at 0x22b83787f90>"
      ]
     },
     "execution_count": 174,
     "metadata": {},
     "output_type": "execute_result"
    },
    {
     "data": {
      "image/png": "[encoded data removed]",
      "text/plain": [
       "<Figure size 640x480 with 1 Axes>"
      ]
     },
     "metadata": {},
     "output_type": "display_data"
    }
   ],
   "source": [
    "datas = np.array(all_datas)\n",
    "plt.imshow(datas[5565].reshape(16,16))"
   ]
  },
  {
   "cell_type": "code",
   "execution_count": 175,
   "id": "9208c076-9040-4b43-8301-d7873e989db7",
   "metadata": {},
   "outputs": [],
   "source": [
    "def kmeans(X, k, max_iters=10000, tol=1e-4):\n",
    "    \n",
    "    centroids = X[np.random.choice(X.shape[0], k, replace=False)]\n",
    "\n",
    "    for _ in range(max_iters):\n",
    "        labels = np.argmin(np.linalg.norm(X[:, np.newaxis] - centroids, axis=2), axis=1)\n",
    "\n",
    "        new_centroids = np.array([X[labels == j].mean(axis=0) for j in range(k)])\n",
    "\n",
    "        if np.linalg.norm(new_centroids - centroids) < tol:\n",
    "            break\n",
    "\n",
    "        centroids = new_centroids\n",
    "\n",
    "    return labels, centroids"
   ]
  },
  {
   "cell_type": "code",
   "execution_count": 176,
   "id": "7e8fe0e8-2408-43fe-8332-dcda2fb63b14",
   "metadata": {},
   "outputs": [],
   "source": [
    "data = np\n",
    "labels, centers = kmeans(datas, 5, 10000)"
   ]
  },
  {
   "cell_type": "code",
   "execution_count": 177,
   "id": "dce69723-df52-43ac-8dfd-c6e7dac28c41",
   "metadata": {},
   "outputs": [
    {
     "data": {
      "text/plain": [
       "array([[ 2.99171271,  9.7412523 , 18.81399632, ..., 31.0985267 ,\n",
       "        27.90976059, 10.42081031],\n",
       "       [ 2.55239643,  4.11860276,  5.66043867, ...,  3.65881397,\n",
       "         3.78472786,  2.30706742],\n",
       "       [ 7.53      , 22.07375   , 34.5625    , ..., 15.82      ,\n",
       "         8.03125   ,  3.39625   ],\n",
       "       [ 3.90622907,  8.32953784,  9.27930342, ..., 13.84259879,\n",
       "        14.19490958,  6.07769591],\n",
       "       [ 1.8       ,  2.814     ,  2.364     , ...,  2.345     ,\n",
       "         2.841     ,  1.744     ]])"
      ]
     },
     "execution_count": 177,
     "metadata": {},
     "output_type": "execute_result"
    }
   ],
   "source": [
    "centers"
   ]
  },
  {
   "cell_type": "code",
   "execution_count": 178,
   "id": "34fd244b-1502-473b-8d84-dd4a053b96eb",
   "metadata": {},
   "outputs": [
    {
     "data": {
      "text/plain": [
       "<matplotlib.image.AxesImage at 0x22b837e02d0>"
      ]
     },
     "execution_count": 178,
     "metadata": {},
     "output_type": "execute_result"
    },
    {
     "data": {
      "image/png": "[encoded data removed]",
      "text/plain": [
       "<Figure size 100x100 with 1 Axes>"
      ]
     },
     "metadata": {},
     "output_type": "display_data"
    }
   ],
   "source": [
    "plt.figure(figsize=(1,1))\n",
    "plt.imshow(centers[0].reshape(16, 16))"
   ]
  },
  {
   "cell_type": "code",
   "execution_count": 179,
   "id": "6b3655f5-3b56-466d-b155-b928f12045c2",
   "metadata": {},
   "outputs": [
    {
     "data": {
      "text/plain": [
       "<matplotlib.image.AxesImage at 0x22b8384de10>"
      ]
     },
     "execution_count": 179,
     "metadata": {},
     "output_type": "execute_result"
    },
    {
     "data": {
      "image/png": "[encoded data removed]",
      "text/plain": [
       "<Figure size 100x100 with 1 Axes>"
      ]
     },
     "metadata": {},
     "output_type": "display_data"
    }
   ],
   "source": [
    "plt.figure(figsize=(1,1))\n",
    "plt.imshow(centers[1].reshape(16, 16))"
   ]
  },
  {
   "cell_type": "code",
   "execution_count": 180,
   "id": "86c526d7-5a24-444e-b058-16b7537be203",
   "metadata": {},
   "outputs": [
    {
     "data": {
      "text/plain": [
       "<matplotlib.image.AxesImage at 0x22b839cff90>"
      ]
     },
     "execution_count": 180,
     "metadata": {},
     "output_type": "execute_result"
    },
    {
     "data": {
      "image/png": "[encoded data removed]",
      "text/plain": [
       "<Figure size 100x100 with 1 Axes>"
      ]
     },
     "metadata": {},
     "output_type": "display_data"
    }
   ],
   "source": [
    "plt.figure(figsize=(1,1))\n",
    "plt.imshow(centers[2].reshape(16, 16))"
   ]
  },
  {
   "cell_type": "code",
   "execution_count": 181,
   "id": "98c1e439-daff-42d2-a05c-809a812d47a3",
   "metadata": {},
   "outputs": [
    {
     "data": {
      "text/plain": [
       "<matplotlib.image.AxesImage at 0x22b83a2ff90>"
      ]
     },
     "execution_count": 181,
     "metadata": {},
     "output_type": "execute_result"
    },
    {
     "data": {
      "image/png": "[encoded data removed]",
      "text/plain": [
       "<Figure size 100x100 with 1 Axes>"
      ]
     },
     "metadata": {},
     "output_type": "display_data"
    }
   ],
   "source": [
    "plt.figure(figsize=(1,1))\n",
    "plt.imshow(centers[3].reshape(16, 16))"
   ]
  },
  {
   "cell_type": "code",
   "execution_count": 182,
   "id": "d077e878-c931-452d-bacc-747514c56e51",
   "metadata": {},
   "outputs": [
    {
     "data": {
      "text/plain": [
       "<matplotlib.image.AxesImage at 0x22b83aae210>"
      ]
     },
     "execution_count": 182,
     "metadata": {},
     "output_type": "execute_result"
    },
    {
     "data": {
      "image/png": "[encoded data removed]",
      "text/plain": [
       "<Figure size 100x100 with 1 Axes>"
      ]
     },
     "metadata": {},
     "output_type": "display_data"
    }
   ],
   "source": [
    "plt.figure(figsize=(1,1))\n",
    "plt.imshow(centers[4].reshape(16, 16))"
   ]
  }
 ],
 "metadata": {
  "kernelspec": {
   "display_name": "Python 3 (ipykernel)",
   "language": "python",
   "name": "python3"
  },
  "language_info": {
   "codemirror_mode": {
    "name": "ipython",
    "version": 3
   },
   "file_extension": ".py",
   "mimetype": "text/x-python",
   "name": "python",
   "nbconvert_exporter": "python",
   "pygments_lexer": "ipython3",
   "version": "3.11.5"
  }
 },
 "nbformat": 4,
 "nbformat_minor": 5
}
